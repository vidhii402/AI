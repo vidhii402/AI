{
  "cells": [
    {
      "cell_type": "code",
      "execution_count": null,
      "metadata": {
        "colab": {
          "base_uri": "https://localhost:8080/"
        },
        "id": "GVKsVe67YZ-u",
        "outputId": "5778c323-ad4e-46db-87e4-63230001c92a"
      },
      "outputs": [
        {
          "name": "stdout",
          "output_type": "stream",
          "text": [
            "CUDA is not available. Training on CPU...\n"
          ]
        }
      ],
      "source": [
        "# Import necessary libraries\n",
        "import os\n",
        "import numpy as np\n",
        "import matplotlib.pyplot as plt\n",
        "from PIL import Image\n",
        "\n",
        "# PyTorch imports\n",
        "import torch\n",
        "import torch.nn as nn\n",
        "import torch.nn.functional as F\n",
        "import torch.optim as optim\n",
        "\n",
        "from torchvision import datasets, transforms, models\n",
        "from torch.utils.data import DataLoader, SubsetRandomSampler\n",
        "\n",
        "# Check if CUDA is available\n",
        "train_on_gpu = torch.cuda.is_available()\n",
        "\n",
        "if not train_on_gpu:\n",
        "    print('CUDA is not available. Training on CPU...')\n",
        "else:\n",
        "    print('CUDA is available! Training on GPU...')"
      ]
    },
    {
      "cell_type": "code",
      "execution_count": null,
      "metadata": {
        "colab": {
          "base_uri": "https://localhost:8080/"
        },
        "id": "0FFGAYrkYhk5",
        "outputId": "44b19a68-2773-40d8-8578-23d0d7985465"
      },
      "outputs": [
        {
          "name": "stdout",
          "output_type": "stream",
          "text": [
            "Path to dataset files: /root/.cache/kagglehub/datasets/swoyam2609/fresh-and-stale-classification/versions/1\n"
          ]
        }
      ],
      "source": [
        "# Download and load the dataset using kagglehub\n",
        "import kagglehub\n",
        "\n",
        "# Download latest version\n",
        "path = kagglehub.dataset_download(\"swoyam2609/fresh-and-stale-classification\")\n",
        "\n",
        "print(\"Path to dataset files:\", path)\n",
        "\n",
        "dataset_path = os.path.join(path, \"dataset\")"
      ]
    },
    {
      "cell_type": "code",
      "execution_count": null,
      "metadata": {
        "colab": {
          "base_uri": "https://localhost:8080/"
        },
        "id": "7Zlr-tkXYmdS",
        "outputId": "d25c7e56-9b58-4bbd-e4af-927e2bd452a1"
      },
      "outputs": [
        {
          "name": "stdout",
          "output_type": "stream",
          "text": [
            "Train_classes: ['rottenokra', 'rottencucumber', 'rottenpotato', 'freshcucumber', 'freshokra', 'freshbanana', 'rottenbittergroud', 'freshpotato', 'freshoranges', 'freshapples', 'rottenbanana', 'freshbittergroud', 'freshtomato', 'rottenoranges', 'rottenapples', 'rottencapsicum', 'rottentomato', 'freshcapsicum']\n",
            "Test_classes: ['rottenokra', 'rottencucumber', 'rottenpotato', 'freshcucumber', 'freshokra', 'freshbanana', 'freshpotato', 'freshoranges', 'freshapples', 'rottenbanana', 'freshtomato', 'rottenoranges', 'rottenapples', 'rottentomato']\n"
          ]
        }
      ],
      "source": [
        "# Define data directories\n",
        "train_dir = os.path.join(dataset_path, 'Train')\n",
        "test_dir = os.path.join(dataset_path, 'Test')\n",
        "\n",
        "# Get list of classes\n",
        "Train_classes = os.listdir(train_dir)\n",
        "Test_classes = os.listdir(test_dir)\n",
        "\n",
        "print(\"Train_classes:\", Train_classes)\n",
        "print(\"Test_classes:\", Test_classes)\n"
      ]
    },
    {
      "cell_type": "code",
      "execution_count": null,
      "metadata": {
        "colab": {
          "base_uri": "https://localhost:8080/"
        },
        "id": "Rxjs1l40YqzE",
        "outputId": "d3a7daee-1842-4cda-8927-415e4d17a946"
      },
      "outputs": [
        {
          "name": "stdout",
          "output_type": "stream",
          "text": [
            "Total corrupted images removed from /root/.cache/kagglehub/datasets/swoyam2609/fresh-and-stale-classification/versions/1/dataset/Train: 0\n",
            "Total corrupted images removed from /root/.cache/kagglehub/datasets/swoyam2609/fresh-and-stale-classification/versions/1/dataset/Test: 0\n"
          ]
        }
      ],
      "source": [
        "# Function to remove corrupted images\n",
        "def remove_corrupted_images(directory, classes):\n",
        "    corrupted_count = 0  # Initialize counter for corrupted images\n",
        "    for cls in classes:\n",
        "        cls_path = os.path.join(directory, cls)\n",
        "        images = os.listdir(cls_path)\n",
        "        for img_name in images:\n",
        "            img_path = os.path.join(cls_path, img_name)\n",
        "            try:\n",
        "                img = Image.open(img_path)\n",
        "                img.verify()  # Verify that it is, in fact, an image\n",
        "                img.close()\n",
        "            except (IOError, SyntaxError, Image.DecompressionBombError):\n",
        "                print(f\"Removing corrupted image: {img_path}\")\n",
        "                os.remove(img_path)\n",
        "                corrupted_count += 1  # Increment the counter\n",
        "    print(f\"Total corrupted images removed from {directory}: {corrupted_count}\")\n",
        "\n",
        "# Remove corrupted images from train and test sets\n",
        "remove_corrupted_images(train_dir, Train_classes)\n",
        "remove_corrupted_images(test_dir, Test_classes)\n"
      ]
    },
    {
      "cell_type": "code",
      "execution_count": null,
      "metadata": {
        "id": "DiUy6kyTYwho"
      },
      "outputs": [],
      "source": [
        "# Function to resize images\n",
        "def resize_images(directory, classes, target_size=(224, 224)):\n",
        "    for cls in classes:\n",
        "        cls_path = os.path.join(directory, cls)\n",
        "        images = os.listdir(cls_path)\n",
        "        for img_name in images:\n",
        "            img_path = os.path.join(cls_path, img_name)\n",
        "            try:\n",
        "                img = Image.open(img_path)\n",
        "                img = img.resize(target_size)\n",
        "                img.save(img_path)\n",
        "                img.close()\n",
        "            except Exception as e:\n",
        "                print(f\"Error processing {img_path}: {e}\")\n",
        "\n",
        "# Resize images in train and test sets\n",
        "resize_images(train_dir, Train_classes)\n",
        "resize_images(test_dir, Test_classes)"
      ]
    },
    {
      "cell_type": "code",
      "execution_count": null,
      "metadata": {
        "colab": {
          "base_uri": "https://localhost:8080/"
        },
        "id": "Mykj6NtyY041",
        "outputId": "12dc99de-eadd-472d-cd37-0718e04c13c2"
      },
      "outputs": [
        {
          "name": "stdout",
          "output_type": "stream",
          "text": [
            "Updated Test_classes: ['rottenokra', 'rottencucumber', 'rottenpotato', 'freshcucumber', 'freshokra', 'freshbanana', 'freshpotato', 'freshoranges', 'freshapples', 'rottenbanana', 'freshtomato', 'rottenoranges', 'rottenapples', 'rottentomato']\n"
          ]
        }
      ],
      "source": [
        "# Correcting typos in test set\n",
        "corrections = {\n",
        "    'rottenpatato': 'rottenpotato',\n",
        "    'rottentamto': 'rottentomato',\n",
        "    'freshtamto': 'freshtomato',\n",
        "    'freshpatato': 'freshpotato',\n",
        "}\n",
        "\n",
        "# Rename directories with typos\n",
        "for old_name, new_name in corrections.items():\n",
        "    old_path = os.path.join(test_dir, old_name)\n",
        "    new_path = os.path.join(test_dir, new_name)\n",
        "    if os.path.exists(old_path):\n",
        "        os.rename(old_path, new_path)\n",
        "        print(f\"Renamed: {old_name} -> {new_name}\")\n",
        "\n",
        "# Update Test_classes after corrections\n",
        "Test_classes = os.listdir(test_dir)\n",
        "print(\"Updated Test_classes:\", Test_classes)"
      ]
    },
    {
      "cell_type": "code",
      "execution_count": null,
      "metadata": {
        "id": "BBG4YqVPY5Nu"
      },
      "outputs": [],
      "source": [
        "# Define transforms for the training, validation, and testing sets\n",
        "train_transforms = transforms.Compose([\n",
        "    transforms.Resize((224, 224)),\n",
        "    transforms.RandomHorizontalFlip(),\n",
        "    transforms.RandomRotation(10),\n",
        "    transforms.ToTensor(),\n",
        "])\n",
        "\n",
        "test_transforms = transforms.Compose([\n",
        "    transforms.Resize((224, 224)),\n",
        "    transforms.ToTensor(),\n",
        "])\n",
        "\n",
        "# Create datasets\n",
        "train_data_full = datasets.ImageFolder(train_dir, transform=train_transforms)\n",
        "test_data = datasets.ImageFolder(test_dir, transform=test_transforms)"
      ]
    },
    {
      "cell_type": "code",
      "execution_count": null,
      "metadata": {
        "colab": {
          "base_uri": "https://localhost:8080/"
        },
        "id": "vXConOiGZMuh",
        "outputId": "01750158-427f-4039-9f5f-dfc93a0ff164"
      },
      "outputs": [
        {
          "name": "stdout",
          "output_type": "stream",
          "text": [
            "Train Data Class Indices: {'freshapples': 0, 'freshbanana': 1, 'freshbittergroud': 2, 'freshcapsicum': 3, 'freshcucumber': 4, 'freshokra': 5, 'freshoranges': 6, 'freshpotato': 7, 'freshtomato': 8, 'rottenapples': 9, 'rottenbanana': 10, 'rottenbittergroud': 11, 'rottencapsicum': 12, 'rottencucumber': 13, 'rottenokra': 14, 'rottenoranges': 15, 'rottenpotato': 16, 'rottentomato': 17}\n",
            "Test Data Class Indices: {'freshapples': 0, 'freshbanana': 1, 'freshcucumber': 2, 'freshokra': 3, 'freshoranges': 4, 'freshpotato': 5, 'freshtomato': 6, 'rottenapples': 7, 'rottenbanana': 8, 'rottencucumber': 9, 'rottenokra': 10, 'rottenoranges': 11, 'rottenpotato': 12, 'rottentomato': 13}\n"
          ]
        }
      ],
      "source": [
        "# Ensure consistent class indices between training and testing datasets\n",
        "print(\"Train Data Class Indices:\", train_data_full.class_to_idx)\n",
        "print(\"Test Data Class Indices:\", test_data.class_to_idx)\n",
        "\n",
        "# Assign test_data class_to_idx to match train_data_full\n",
        "test_data.class_to_idx = train_data_full.class_to_idx\n",
        "test_data.classes = train_data_full.classes"
      ]
    },
    {
      "cell_type": "code",
      "execution_count": null,
      "metadata": {
        "id": "K6a-sy1VxoFK"
      },
      "outputs": [],
      "source": [
        "# # Create data loaders\n",
        "# batch_size = 32\n",
        "# train_loader = DataLoader(train_data_small, batch_size=batch_size, sampler=train_sampler, num_workers=0)\n",
        "# valid_loader = DataLoader(train_data_small, batch_size=batch_size, sampler=valid_sampler, num_workers=0)\n",
        "test_loader = DataLoader(test_data, batch_size=batch_size, shuffle=False, num_workers=0)"
      ]
    },
    {
      "cell_type": "code",
      "execution_count": null,
      "metadata": {
        "colab": {
          "base_uri": "https://localhost:8080/"
        },
        "id": "4ZZqXnOYxe7y",
        "outputId": "a078ba99-1742-42ba-de5d-d91d23471c75"
      },
      "outputs": [
        {
          "name": "stderr",
          "output_type": "stream",
          "text": [
            "/usr/local/lib/python3.10/dist-packages/torchvision/models/_utils.py:208: UserWarning: The parameter 'pretrained' is deprecated since 0.13 and may be removed in the future, please use 'weights' instead.\n",
            "  warnings.warn(\n",
            "/usr/local/lib/python3.10/dist-packages/torchvision/models/_utils.py:223: UserWarning: Arguments other than a weight enum or `None` for 'weights' are deprecated since 0.13 and may be removed in the future. The current behavior is equivalent to passing `weights=ResNet18_Weights.IMAGENET1K_V1`. You can also use `weights=ResNet18_Weights.DEFAULT` to get the most up-to-date weights.\n",
            "  warnings.warn(msg)\n"
          ]
        }
      ],
      "source": [
        "model = models.resnet18(pretrained=True)\n"
      ]
    },
    {
      "cell_type": "code",
      "execution_count": null,
      "metadata": {
        "id": "SuKARXYL1ZAo"
      },
      "outputs": [],
      "source": [
        "num_workers = 2"
      ]
    },
    {
      "cell_type": "code",
      "execution_count": null,
      "metadata": {
        "colab": {
          "base_uri": "https://localhost:8080/"
        },
        "id": "M1zJ-u_fvJym",
        "outputId": "13ecb0c4-29c2-411a-f713-6a050cde6eec"
      },
      "outputs": [
        {
          "name": "stderr",
          "output_type": "stream",
          "text": [
            "/usr/local/lib/python3.10/dist-packages/torch/utils/data/dataloader.py:617: UserWarning: This DataLoader will create 5 worker processes in total. Our suggested max number of worker in current system is 2, which is smaller than what this DataLoader is going to create. Please be aware that excessive worker creation might get DataLoader running slow or even freeze, lower the worker number to avoid potential slowness/freeze if necessary.\n",
            "  warnings.warn(\n"
          ]
        },
        {
          "name": "stdout",
          "output_type": "stream",
          "text": [
            "Feature extraction complete. Files saved: 'train_features.pt' and 'valid_features.pt'\n"
          ]
        }
      ],
      "source": [
        "import torch\n",
        "import torch.nn as nn\n",
        "import torch.optim as optim\n",
        "from torch.utils.data import Subset, DataLoader, TensorDataset, random_split\n",
        "from torchvision import transforms, models\n",
        "\n",
        "# Assuming you have variables: train_data_full, train_on_gpu, num_workers defined\n",
        "\n",
        "# Define the split ratio, for example 90% training, 10% validation\n",
        "train_ratio = 0.9\n",
        "train_len = int(train_ratio * len(train_data_full))\n",
        "valid_len = len(train_data_full) - train_len\n",
        "\n",
        "train_subset, valid_subset = random_split(train_data_full, [train_len, valid_len])\n",
        "\n",
        "# Use a smaller subset for faster feature extraction (optional)\n",
        "subset_size = int(0.3 * train_len)  # Take 10% of the training subset\n",
        "train_indices = torch.randperm(train_len)[:subset_size]\n",
        "train_data_small = Subset(train_subset, train_indices)\n",
        "\n",
        "val_subset_size = int(0.1 * valid_len)  # Take 10% of the validation subset\n",
        "val_indices = torch.randperm(valid_len)[:val_subset_size]\n",
        "valid_data_small = Subset(valid_subset, val_indices)\n",
        "\n",
        "# Reduce image size and remove heavy augmentations to speed up\n",
        "img_height, img_width = 64, 64\n",
        "train_transforms = transforms.Compose([\n",
        "    transforms.Resize((img_height, img_width)),\n",
        "    transforms.ToTensor(),\n",
        "])\n",
        "\n",
        "valid_transforms = transforms.Compose([\n",
        "    transforms.Resize((img_height, img_width)),\n",
        "    transforms.ToTensor(),\n",
        "])\n",
        "\n",
        "# Apply transforms to the underlying datasets\n",
        "# Make sure that the original train_data_full dataset does not have its own transforms set\n",
        "train_data_full.transform = train_transforms\n",
        "# The validation subset is drawn from the same dataset, so it shares the same underlying transform\n",
        "# If you want different transforms for validation, apply them here:\n",
        "# valid_data_full.transform = valid_transforms (if you had a separate dataset)\n",
        "# Since we're using a subset of train_data_full, the same transforms apply,\n",
        "# but you can also manually reassign if needed:\n",
        "valid_subset.dataset.transform = valid_transforms\n",
        "\n",
        "# Create DataLoaders for these subsets\n",
        "batch_size = 16\n",
        "train_loader_small = DataLoader(train_data_small, batch_size=batch_size, shuffle=True,\n",
        "                                num_workers=num_workers, pin_memory=True)\n",
        "valid_loader_small = DataLoader(valid_data_small, batch_size=batch_size, shuffle=False,\n",
        "                                num_workers=num_workers, pin_memory=True)\n",
        "\n",
        "# Define a pretrained model and extract features (for example, ResNet18)\n",
        "model = models.resnet18(pretrained=True)\n",
        "model.eval()\n",
        "if train_on_gpu:\n",
        "    model.cuda()\n",
        "\n",
        "# Feature extractor: all layers except the final FC layer\n",
        "feature_extractor = nn.Sequential(*list(model.children())[:-1])\n",
        "if train_on_gpu:\n",
        "    feature_extractor.cuda()\n",
        "feature_extractor.eval()\n",
        "\n",
        "# Extract features for training data\n",
        "train_features_list = []\n",
        "train_labels_list = []\n",
        "with torch.no_grad():\n",
        "    for images, labels in train_loader_small:\n",
        "        if train_on_gpu:\n",
        "            images = images.cuda()\n",
        "        feats = feature_extractor(images)\n",
        "        feats = feats.view(feats.size(0), -1)\n",
        "        train_features_list.append(feats.cpu())\n",
        "        train_labels_list.append(labels.cpu())\n",
        "train_features = torch.cat(train_features_list)\n",
        "train_labels = torch.cat(train_labels_list)\n",
        "\n",
        "# Extract features for validation data\n",
        "valid_features_list = []\n",
        "valid_labels_list = []\n",
        "with torch.no_grad():\n",
        "    for images, labels in valid_loader_small:\n",
        "        if train_on_gpu:\n",
        "            images = images.cuda()\n",
        "        feats = feature_extractor(images)\n",
        "        feats = feats.view(feats.size(0), -1)\n",
        "        valid_features_list.append(feats.cpu())\n",
        "        valid_labels_list.append(labels.cpu())\n",
        "valid_features = torch.cat(valid_features_list)\n",
        "valid_labels = torch.cat(valid_labels_list)\n",
        "\n",
        "# Save extracted features to disk for future reuse\n",
        "torch.save((train_features, train_labels), 'train_features.pt')\n",
        "torch.save((valid_features, valid_labels), 'valid_features.pt')\n",
        "\n",
        "print(\"Feature extraction complete. Files saved: 'train_features.pt' and 'valid_features.pt'\")\n"
      ]
    },
    {
      "cell_type": "code",
      "execution_count": null,
      "metadata": {
        "id": "3PJvOy1I2RkN"
      },
      "outputs": [],
      "source": [
        "num_classes = max(train_labels.max().item(), valid_labels.max().item()) + 1\n"
      ]
    },
    {
      "cell_type": "code",
      "execution_count": null,
      "metadata": {
        "colab": {
          "base_uri": "https://localhost:8080/"
        },
        "id": "tAx6kx1Q1_no",
        "outputId": "9a0b1555-41ea-4419-c0a5-4bb3dd331e23"
      },
      "outputs": [
        {
          "name": "stdout",
          "output_type": "stream",
          "text": [
            "Epoch: 1/30 Train Loss: 1.0317 Valid Loss: 0.4699 Train Acc: 65.99% Valid Acc: 84.32%\n",
            "Validation loss decreased (inf --> 0.4699). Saving model ...\n",
            "Epoch: 2/30 Train Loss: 0.5631 Valid Loss: 0.4490 Train Acc: 80.32% Valid Acc: 86.02%\n",
            "Validation loss decreased (0.4699 --> 0.4490). Saving model ...\n",
            "Epoch: 3/30 Train Loss: 0.4571 Valid Loss: 0.3348 Train Acc: 83.38% Valid Acc: 87.71%\n",
            "Validation loss decreased (0.4490 --> 0.3348). Saving model ...\n",
            "Epoch: 4/30 Train Loss: 0.3993 Valid Loss: 0.3220 Train Acc: 85.49% Valid Acc: 89.83%\n",
            "Validation loss decreased (0.3348 --> 0.3220). Saving model ...\n",
            "Epoch: 5/30 Train Loss: 0.3503 Valid Loss: 0.3249 Train Acc: 86.67% Valid Acc: 87.29%\n",
            "Epoch: 6/30 Train Loss: 0.3188 Valid Loss: 0.2392 Train Acc: 87.88% Valid Acc: 90.68%\n",
            "Validation loss decreased (0.3220 --> 0.2392). Saving model ...\n",
            "Epoch: 7/30 Train Loss: 0.3150 Valid Loss: 0.2678 Train Acc: 87.96% Valid Acc: 91.10%\n",
            "Epoch: 8/30 Train Loss: 0.2856 Valid Loss: 0.2325 Train Acc: 89.18% Valid Acc: 92.37%\n",
            "Validation loss decreased (0.2392 --> 0.2325). Saving model ...\n",
            "Epoch: 9/30 Train Loss: 0.2814 Valid Loss: 0.2868 Train Acc: 89.02% Valid Acc: 91.10%\n",
            "Epoch: 10/30 Train Loss: 0.2575 Valid Loss: 0.2642 Train Acc: 89.95% Valid Acc: 91.95%\n",
            "Epoch: 11/30 Train Loss: 0.2478 Valid Loss: 0.2855 Train Acc: 90.31% Valid Acc: 89.41%\n",
            "Epoch: 12/30 Train Loss: 0.2507 Valid Loss: 0.2689 Train Acc: 90.20% Valid Acc: 89.83%\n",
            "Epoch: 13/30 Train Loss: 0.2309 Valid Loss: 0.2183 Train Acc: 91.17% Valid Acc: 91.10%\n",
            "Validation loss decreased (0.2325 --> 0.2183). Saving model ...\n",
            "Epoch: 14/30 Train Loss: 0.2274 Valid Loss: 0.2225 Train Acc: 91.28% Valid Acc: 93.22%\n",
            "Epoch: 15/30 Train Loss: 0.2146 Valid Loss: 0.3015 Train Acc: 91.63% Valid Acc: 90.25%\n",
            "Epoch: 16/30 Train Loss: 0.2089 Valid Loss: 0.2718 Train Acc: 91.92% Valid Acc: 90.68%\n",
            "Epoch: 17/30 Train Loss: 0.2105 Valid Loss: 0.2288 Train Acc: 91.96% Valid Acc: 91.95%\n",
            "Epoch: 18/30 Train Loss: 0.1887 Valid Loss: 0.2467 Train Acc: 92.74% Valid Acc: 88.98%\n",
            "Epoch: 19/30 Train Loss: 0.1974 Valid Loss: 0.2080 Train Acc: 92.35% Valid Acc: 92.80%\n",
            "Validation loss decreased (0.2183 --> 0.2080). Saving model ...\n",
            "Epoch: 20/30 Train Loss: 0.1932 Valid Loss: 0.2052 Train Acc: 92.68% Valid Acc: 93.64%\n",
            "Validation loss decreased (0.2080 --> 0.2052). Saving model ...\n",
            "Epoch: 21/30 Train Loss: 0.1933 Valid Loss: 0.2899 Train Acc: 92.88% Valid Acc: 91.53%\n",
            "Epoch: 22/30 Train Loss: 0.1817 Valid Loss: 0.2774 Train Acc: 92.60% Valid Acc: 90.25%\n",
            "Epoch: 23/30 Train Loss: 0.1761 Valid Loss: 0.2515 Train Acc: 93.24% Valid Acc: 90.25%\n",
            "Epoch: 24/30 Train Loss: 0.1629 Valid Loss: 0.1915 Train Acc: 93.71% Valid Acc: 93.64%\n",
            "Validation loss decreased (0.2052 --> 0.1915). Saving model ...\n",
            "Epoch: 25/30 Train Loss: 0.1557 Valid Loss: 0.2351 Train Acc: 93.90% Valid Acc: 93.22%\n",
            "Epoch: 26/30 Train Loss: 0.1736 Valid Loss: 0.2809 Train Acc: 93.35% Valid Acc: 91.10%\n",
            "Epoch: 27/30 Train Loss: 0.1677 Valid Loss: 0.2391 Train Acc: 93.57% Valid Acc: 92.37%\n",
            "Epoch: 28/30 Train Loss: 0.1529 Valid Loss: 0.3174 Train Acc: 93.99% Valid Acc: 91.95%\n",
            "Epoch: 29/30 Train Loss: 0.1633 Valid Loss: 0.3393 Train Acc: 93.68% Valid Acc: 92.37%\n",
            "Epoch: 30/30 Train Loss: 0.1601 Valid Loss: 0.2279 Train Acc: 93.98% Valid Acc: 92.80%\n"
          ]
        }
      ],
      "source": [
        "import torch\n",
        "import torch.nn as nn\n",
        "import torch.optim as optim\n",
        "from torch.utils.data import TensorDataset, DataLoader\n",
        "\n",
        "# Load precomputed features (enable weights_only=True if needed to avoid warnings):\n",
        "train_features, train_labels = torch.load('train_features.pt', weights_only=False)\n",
        "valid_features, valid_labels = torch.load('valid_features.pt', weights_only=False)\n",
        "\n",
        "# Combine all labels to find unique classes\n",
        "all_labels = torch.cat((train_labels, valid_labels))\n",
        "unique_labels = torch.unique(all_labels)\n",
        "\n",
        "# Create a mapping from old labels to new zero-based labels\n",
        "label_map = {old_label.item(): i for i, old_label in enumerate(unique_labels)}\n",
        "\n",
        "# Remap train and valid labels\n",
        "train_labels = torch.tensor([label_map[l.item()] for l in train_labels])\n",
        "valid_labels = torch.tensor([label_map[l.item()] for l in valid_labels])\n",
        "\n",
        "# Determine the number of classes\n",
        "num_classes = len(unique_labels)\n",
        "\n",
        "# Create datasets and dataloaders from the remapped labels\n",
        "batch_size = 32\n",
        "train_dataset = TensorDataset(train_features, train_labels)\n",
        "valid_dataset = TensorDataset(valid_features, valid_labels)\n",
        "\n",
        "train_loader_features = DataLoader(train_dataset, batch_size=batch_size, shuffle=True)\n",
        "valid_loader_features = DataLoader(valid_dataset, batch_size=batch_size, shuffle=False)\n",
        "\n",
        "# Check GPU availability\n",
        "train_on_gpu = torch.cuda.is_available()\n",
        "\n",
        "# Define the classifier head after knowing num_classes\n",
        "feature_dim = train_features.size(1)\n",
        "classifier = nn.Sequential(\n",
        "    nn.Linear(feature_dim, 256),\n",
        "    nn.ReLU(),\n",
        "    nn.Dropout(0.5),\n",
        "    nn.Linear(256, num_classes)\n",
        ")\n",
        "\n",
        "if train_on_gpu:\n",
        "    classifier.cuda()\n",
        "\n",
        "criterion = nn.CrossEntropyLoss()\n",
        "optimizer = optim.Adam(classifier.parameters(), lr=0.001)\n",
        "\n",
        "# Training loop\n",
        "epochs = 30\n",
        "valid_loss_min = float('inf')\n",
        "for epoch in range(1, epochs + 1):\n",
        "    # Training phase\n",
        "    classifier.train()\n",
        "    train_loss = 0.0\n",
        "    train_correct = 0\n",
        "    train_total = 0\n",
        "    for feats, labels in train_loader_features:\n",
        "        if train_on_gpu:\n",
        "            feats, labels = feats.cuda(), labels.cuda()\n",
        "        optimizer.zero_grad()\n",
        "        outputs = classifier(feats)\n",
        "        loss = criterion(outputs, labels)\n",
        "        loss.backward()\n",
        "        optimizer.step()\n",
        "\n",
        "        train_loss += loss.item() * feats.size(0)\n",
        "        _, preds = torch.max(outputs, 1)\n",
        "        train_correct += (preds == labels).sum().item()\n",
        "        train_total += labels.size(0)\n",
        "\n",
        "    # Validation phase\n",
        "    classifier.eval()\n",
        "    valid_loss = 0.0\n",
        "    valid_correct = 0\n",
        "    valid_total = 0\n",
        "    with torch.no_grad():\n",
        "        for feats, labels in valid_loader_features:\n",
        "            if train_on_gpu:\n",
        "                feats, labels = feats.cuda(), labels.cuda()\n",
        "            outputs = classifier(feats)\n",
        "            loss = criterion(outputs, labels)\n",
        "            valid_loss += loss.item() * feats.size(0)\n",
        "            _, preds = torch.max(outputs, 1)\n",
        "            valid_correct += (preds == labels).sum().item()\n",
        "            valid_total += labels.size(0)\n",
        "\n",
        "    train_loss /= len(train_loader_features.dataset)\n",
        "    valid_loss /= len(valid_loader_features.dataset)\n",
        "    train_acc = 100.0 * train_correct / train_total\n",
        "    valid_acc = 100.0 * valid_correct / valid_total\n",
        "\n",
        "    print(f'Epoch: {epoch}/{epochs} '\n",
        "          f'Train Loss: {train_loss:.4f} Valid Loss: {valid_loss:.4f} '\n",
        "          f'Train Acc: {train_acc:.2f}% Valid Acc: {valid_acc:.2f}%')\n",
        "\n",
        "    if valid_loss < valid_loss_min:\n",
        "        print(f'Validation loss decreased ({valid_loss_min:.4f} --> {valid_loss:.4f}). Saving model ...')\n",
        "        torch.save(classifier.state_dict(), 'best_classifier.pt')\n",
        "        valid_loss_min = valid_loss\n"
      ]
    },
    {
      "cell_type": "code",
      "execution_count": null,
      "metadata": {
        "colab": {
          "base_uri": "https://localhost:8080/"
        },
        "id": "YKbelx5kvmr6",
        "outputId": "861f253f-cca6-4755-8193-aed8b950007d"
      },
      "outputs": [
        {
          "name": "stderr",
          "output_type": "stream",
          "text": [
            "<ipython-input-32-a341023b1543>:8: FutureWarning: You are using `torch.load` with `weights_only=False` (the current default value), which uses the default pickle module implicitly. It is possible to construct malicious pickle data which will execute arbitrary code during unpickling (See https://github.com/pytorch/pytorch/blob/main/SECURITY.md#untrusted-models for more details). In a future release, the default value for `weights_only` will be flipped to `True`. This limits the functions that could be executed during unpickling. Arbitrary objects will no longer be allowed to be loaded via this mode unless they are explicitly allowlisted by the user via `torch.serialization.add_safe_globals`. We recommend you start setting `weights_only=True` for any use case where you don't have full control of the loaded file. Please open an issue on GitHub for any issues related to this experimental feature.\n",
            "  classifier.load_state_dict(torch.load('best_classifier.pt'))\n"
          ]
        },
        {
          "name": "stdout",
          "output_type": "stream",
          "text": [
            "Test Loss: 7.4013 \tTest Accuracy: 25.42%\n"
          ]
        }
      ],
      "source": [
        "# Assume feature_extractor is defined as before, e.g.:\n",
        "# feature_extractor = nn.Sequential(*list(pretrained_model.children())[:-1])\n",
        "# feature_extractor.eval()\n",
        "if train_on_gpu:\n",
        "    feature_extractor.cuda()\n",
        "\n",
        "# Load the best classifier weights saved during training\n",
        "classifier.load_state_dict(torch.load('best_classifier.pt'))\n",
        "classifier.eval()\n",
        "\n",
        "test_loss = 0.0\n",
        "test_correct = 0\n",
        "test_total = 0\n",
        "\n",
        "with torch.no_grad():\n",
        "    for images, labels in test_loader:\n",
        "        if train_on_gpu:\n",
        "            images, labels = images.cuda(), labels.cuda()\n",
        "        # Extract features from raw test images\n",
        "        feats = feature_extractor(images)\n",
        "        feats = feats.view(feats.size(0), -1)\n",
        "\n",
        "        # Get predictions from classifier\n",
        "        outputs = classifier(feats)\n",
        "        loss = criterion(outputs, labels)\n",
        "\n",
        "        test_loss += loss.item() * feats.size(0)\n",
        "        _, preds = torch.max(outputs, 1)\n",
        "        test_correct += (preds == labels).sum().item()\n",
        "        test_total += labels.size(0)\n",
        "\n",
        "test_loss = test_loss / len(test_loader.dataset)\n",
        "test_accuracy = 100.0 * test_correct / test_total\n",
        "print(f'Test Loss: {test_loss:.4f} \\tTest Accuracy: {test_accuracy:.2f}%')\n",
        "\n",
        "# Function to predict a single image\n",
        "def predict_single_image(image, feature_extractor, classifier, train_on_gpu=True):\n",
        "    classifier.eval()\n",
        "    feature_extractor.eval()\n",
        "    with torch.no_grad():\n",
        "        if train_on_gpu:\n",
        "            image = image.cuda()\n",
        "        # Add batch dimension and extract features\n",
        "        feats = feature_extractor(image.unsqueeze(0))\n",
        "        feats = feats.view(feats.size(0), -1)\n",
        "        # Predict\n",
        "        outputs = classifier(feats)\n",
        "        _, pred = torch.max(outputs, 1)\n",
        "        return pred.item()\n",
        "\n",
        "# Example usage:\n",
        "# single_image, _ = next(iter(test_loader)) # Take one batch and select first image\n",
        "# predicted_class = predict_single_image(single_image[0], feature_extractor, classifier, train_on_gpu)\n",
        "# print(\"Predicted class index:\", predicted_class)\n"
      ]
    },
    {
      "cell_type": "code",
      "execution_count": null,
      "metadata": {
        "colab": {
          "base_uri": "https://localhost:8080/",
          "height": 573
        },
        "id": "fr4KZ652vm0W",
        "outputId": "fda06db9-f30e-4a68-dbc1-9800ef2574b2"
      },
      "outputs": [
        {
          "name": "stderr",
          "output_type": "stream",
          "text": [
            "<ipython-input-33-efa64a977263>:51: FutureWarning: You are using `torch.load` with `weights_only=False` (the current default value), which uses the default pickle module implicitly. It is possible to construct malicious pickle data which will execute arbitrary code during unpickling (See https://github.com/pytorch/pytorch/blob/main/SECURITY.md#untrusted-models for more details). In a future release, the default value for `weights_only` will be flipped to `True`. This limits the functions that could be executed during unpickling. Arbitrary objects will no longer be allowed to be loaded via this mode unless they are explicitly allowlisted by the user via `torch.serialization.add_safe_globals`. We recommend you start setting `weights_only=True` for any use case where you don't have full control of the loaded file. Please open an issue on GitHub for any issues related to this experimental feature.\n",
            "  classifier.load_state_dict(torch.load('best_classifier.pt'))\n"
          ]
        },
        {
          "name": "stdout",
          "output_type": "stream",
          "text": [
            "Predicted Class Index: 0\n",
            "Predicted Class: freshapples\n",
            "True Class: freshapples\n"
          ]
        },
        {
          "data": {
            "text/plain": [
              "<Figure size 400x400 with 0 Axes>"
            ]
          },
          "metadata": {},
          "output_type": "display_data"
        },
        {
          "data": {
            "image/png": "[encoded data removed]",
            "text/plain": [
              "<Figure size 640x480 with 1 Axes>"
            ]
          },
          "metadata": {},
          "output_type": "display_data"
        }
      ],
      "source": [
        "import torch\n",
        "import torch.nn as nn\n",
        "import torch.optim as optim\n",
        "from torch.utils.data import Subset, DataLoader, TensorDataset, random_split\n",
        "from torchvision import transforms, models\n",
        "import matplotlib.pyplot as plt\n",
        "import numpy as np\n",
        "\n",
        "# Define your class names if available\n",
        "# If using torchvision.datasets.ImageFolder, you can get class names from train_data_full.classes\n",
        "# Otherwise, define them manually as a list\n",
        "# Example:\n",
        "# class_names = ['class0', 'class1', 'class2', ..., 'classN']\n",
        "class_names = train_data_full.classes  # Adjust based on your dataset\n",
        "\n",
        "# Function to unnormalize and display an image\n",
        "def imshow(image, ax=None, title=None):\n",
        "    \"\"\"Imshow for Tensor.\"\"\"\n",
        "    if ax is None:\n",
        "        fig, ax = plt.subplots()\n",
        "    # Assuming the image is unnormalized; adjust if you have normalization\n",
        "    image = image.numpy().transpose((1, 2, 0))\n",
        "    # If images were normalized, unnormalize them here\n",
        "    # Example for ImageNet normalization:\n",
        "    # mean = np.array([0.485, 0.456, 0.406])\n",
        "    # std = np.array([0.229, 0.224, 0.225])\n",
        "    # image = std * image + mean\n",
        "    image = np.clip(image, 0, 1)  # Clip to valid range\n",
        "    ax.imshow(image)\n",
        "    if title is not None:\n",
        "        ax.set_title(title)\n",
        "    ax.axis('off')\n",
        "    return ax\n",
        "\n",
        "# Function to predict a single image\n",
        "def predict_single_image(image, feature_extractor, classifier, train_on_gpu=True):\n",
        "    classifier.eval()\n",
        "    feature_extractor.eval()\n",
        "    with torch.no_grad():\n",
        "        if train_on_gpu:\n",
        "            image = image.cuda()\n",
        "        # Add batch dimension and extract features\n",
        "        feats = feature_extractor(image.unsqueeze(0))\n",
        "        feats = feats.view(feats.size(0), -1)\n",
        "        # Predict\n",
        "        outputs = classifier(feats)\n",
        "        _, pred = torch.max(outputs, 1)\n",
        "        return pred.item()\n",
        "\n",
        "# Load the best classifier weights saved during training\n",
        "classifier.load_state_dict(torch.load('best_classifier.pt'))\n",
        "classifier.eval()\n",
        "\n",
        "# Define or load the feature_extractor\n",
        "# Make sure it's the same as used during training\n",
        "# Example using ResNet18:\n",
        "feature_extractor = nn.Sequential(*list(models.resnet18(pretrained=True).children())[:-1])\n",
        "feature_extractor.eval()\n",
        "if train_on_gpu:\n",
        "    feature_extractor.cuda()\n",
        "\n",
        "# Ensure the classifier is on the correct device\n",
        "if train_on_gpu:\n",
        "    classifier.cuda()\n",
        "\n",
        "# Get one batch of test images and labels\n",
        "test_images, test_labels = next(iter(test_loader))\n",
        "\n",
        "# Select the first image from the batch\n",
        "single_image = test_images[0]\n",
        "true_label = test_labels[0].item()\n",
        "\n",
        "# Predict its class\n",
        "predicted_class_idx = predict_single_image(single_image, feature_extractor, classifier, train_on_gpu)\n",
        "predicted_class = class_names[predicted_class_idx]\n",
        "true_class = class_names[true_label]\n",
        "\n",
        "print(f'Predicted Class Index: {predicted_class_idx}')\n",
        "print(f'Predicted Class: {predicted_class}')\n",
        "print(f'True Class: {true_class}')\n",
        "\n",
        "# Display the image with predicted and true labels\n",
        "plt.figure(figsize=(4,4))\n",
        "imshow(single_image.cpu(), title=f'Predicted: {predicted_class}\\nTrue: {true_class}')\n",
        "plt.show()\n"
      ]
    },
    {
      "cell_type": "code",
      "execution_count": null,
      "metadata": {
        "id": "tfRsBGWWvm5s"
      },
      "outputs": [],
      "source": []
    },
    {
      "cell_type": "code",
      "execution_count": null,
      "metadata": {
        "id": "TsL5damHvm--"
      },
      "outputs": [],
      "source": []
    },
    {
      "cell_type": "code",
      "execution_count": null,
      "metadata": {
        "id": "QoBoiNFssxSv"
      },
      "outputs": [],
      "source": []
    }
  ],
  "metadata": {
    "colab": {
      "provenance": []
    },
    "kernelspec": {
      "display_name": "Python 3",
      "name": "python3"
    },
    "language_info": {
      "name": "python"
    }
  },
  "nbformat": 4,
  "nbformat_minor": 0
}